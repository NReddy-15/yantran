{
 "cells": [
  {
   "cell_type": "code",
   "execution_count": 1,
   "id": "614a861c-bcd5-4608-8980-a1ed281c3ee0",
   "metadata": {},
   "outputs": [],
   "source": [
    "from PyPDF2 import PdfReader\n",
    "import re\n",
    "import csv\n",
    "import datetime"
   ]
  },
  {
   "cell_type": "code",
   "execution_count": 4,
   "id": "c54cbf71-1746-4797-9ea2-d3d615862845",
   "metadata": {},
   "outputs": [],
   "source": [
    "inv_file_name = \"wordpress-sample.pdf\"\n",
    "reader = PdfReader(inv_file_name)\n",
    "text = \"\"\n",
    "for i in range(len(reader.pages)):\n",
    "    page = reader.pages[i]\n",
    "    text += page.extract_text()\n",
    "#print(text)"
   ]
  },
  {
   "cell_type": "code",
   "execution_count": 6,
   "id": "ad2c0429-d39a-43fc-93e6-dec921a845f7",
   "metadata": {},
   "outputs": [
    {
     "name": "stdout",
     "output_type": "stream",
     "text": [
      "[['INV-3337']]\n"
     ]
    }
   ],
   "source": [
    "invNum = [re.findall(r\"INV-\\d+\", text)]\n",
    "#print(invNum[0])"
   ]
  },
  {
   "cell_type": "code",
   "execution_count": null,
   "id": "a082de23-534e-416b-bcdb-0dde0953d83b",
   "metadata": {},
   "outputs": [],
   "source": [
    "def date_validator(date_string, date_format):\n",
    "    try:\n",
    "        datetime.datetime.strptime(date_string, date_format)\n",
    "        return True\n",
    "    except ValueError:\n",
    "        return False\n",
    "date_format = \"%d/%m/%Y\"\n",
    "sample_date = \"Invoice Date 25/04/2021\"\n",
    "\n",
    "#print(date_validator(sample_date[13:], date_format))"
   ]
  },
  {
   "cell_type": "code",
   "execution_count": null,
   "id": "21bd187f",
   "metadata": {},
   "outputs": [],
   "source": [
    "invDate = re.findall(r\"Invoice Date \\d{2}/\\d{2}/\\d{4}\", text)\n",
    "\n",
    "with open(\"validation-log.txt\", \"a\") as file:\n",
    "    validationOutput = datetime.datetime.now().strftime('%d/%m/%Y, %H:%M:%S') + \"\\nValidating file: \" + inv_file_name + \"\\n\"\n",
    "    if len(invNum) == 1:\n",
    "        validationOutput += \"Valid invoice number: \" + invNum[0][0] + \"\\n\"\n",
    "    else:\n",
    "        validationOutput += \"Invalid invoice number\\n\"\n",
    "    if len(invDate) == 1 and date_validator(invDate[0][13:], date_format):\n",
    "        validationOutput += \"Valid invoice date: \" + invDate[0][13:] + \"\\n\"\n",
    "    else:\n",
    "        validationOutput += \"Invalid invoice date\\n\\n\"\n",
    "    file.write(validationOutput)"
   ]
  },
  {
   "cell_type": "code",
   "execution_count": null,
   "id": "1705b7d7",
   "metadata": {},
   "outputs": [],
   "source": [
    "with open('extraction-test.csv', 'w', newline='') as csvfile:\n",
    "    writer = csv.writer(csvfile)\n",
    "    writer.writerows(invNum)"
   ]
  }
 ],
 "metadata": {
  "kernelspec": {
   "display_name": "Python [conda env:base] *",
   "language": "python",
   "name": "conda-base-py"
  },
  "language_info": {
   "codemirror_mode": {
    "name": "ipython",
    "version": 3
   },
   "file_extension": ".py",
   "mimetype": "text/x-python",
   "name": "python",
   "nbconvert_exporter": "python",
   "pygments_lexer": "ipython3",
   "version": "3.12.7"
  }
 },
 "nbformat": 4,
 "nbformat_minor": 5
}
