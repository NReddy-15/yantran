{
 "cells": [
  {
   "cell_type": "code",
   "execution_count": 1,
   "id": "614a861c-bcd5-4608-8980-a1ed281c3ee0",
   "metadata": {},
   "outputs": [],
   "source": [
    "from PyPDF2 import PdfReader\n",
    "import re\n",
    "import csv"
   ]
  },
  {
   "cell_type": "code",
   "execution_count": 4,
   "id": "c54cbf71-1746-4797-9ea2-d3d615862845",
   "metadata": {},
   "outputs": [],
   "source": [
    "reader = PdfReader(\"wordpress-sample.pdf\")\n",
    "text = \"\"\n",
    "for i in range(len(reader.pages)):\n",
    "    page = reader.pages[i]\n",
    "    text += page.extract_text()\n",
    "#print(text)"
   ]
  },
  {
   "cell_type": "code",
   "execution_count": 6,
   "id": "ad2c0429-d39a-43fc-93e6-dec921a845f7",
   "metadata": {},
   "outputs": [
    {
     "name": "stdout",
     "output_type": "stream",
     "text": [
      "[['INV-3337']]\n"
     ]
    }
   ],
   "source": [
    "invNum = [re.findall(r\"INV-\\d+\", text)]\n",
    "print(invNum)"
   ]
  },
  {
   "cell_type": "code",
   "execution_count": null,
   "id": "a082de23-534e-416b-bcdb-0dde0953d83b",
   "metadata": {},
   "outputs": [],
   "source": [
    "with open('extraction-test.csv', 'w', newline='') as csvfile:\n",
    "    writer = csv.writer(csvfile)\n",
    "    writer.writerows(invNum)"
   ]
  }
 ],
 "metadata": {
  "kernelspec": {
   "display_name": "Python [conda env:base] *",
   "language": "python",
   "name": "conda-base-py"
  },
  "language_info": {
   "codemirror_mode": {
    "name": "ipython",
    "version": 3
   },
   "file_extension": ".py",
   "mimetype": "text/x-python",
   "name": "python",
   "nbconvert_exporter": "python",
   "pygments_lexer": "ipython3",
   "version": "3.12.7"
  }
 },
 "nbformat": 4,
 "nbformat_minor": 5
}
